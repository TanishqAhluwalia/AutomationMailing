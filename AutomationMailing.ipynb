{
 "cells": [
  {
   "cell_type": "code",
   "execution_count": null,
   "metadata": {},
   "outputs": [],
   "source": [
    "from selenium import webdriver\n",
    "driver = webdriver.Chrome(ChromeDriverManager().install())"
   ]
  },
  {
   "cell_type": "code",
   "execution_count": 103,
   "metadata": {},
   "outputs": [],
   "source": [
    "from selenium.webdriver.support.ui import WebDriverWait \n",
    "from selenium.webdriver.support import expected_conditions as EC\n",
    "from selenium.webdriver.common.by import By "
   ]
  },
  {
   "cell_type": "code",
   "execution_count": 112,
   "metadata": {},
   "outputs": [],
   "source": [
    "\n",
    "mails=[\n",
    "    'Dishaagarwal934@gmail.com',\n",
    "    'ketanrj99@gmail.com',\n",
    "    'frabjousenigma2001@gmail.com',\n",
    "    'himanshiarora2705@gmail.com',\n",
    "    'mahajanridhima62@gmail.com',\n",
    "    'afnanirfan00000@gmail.com',\n",
    "    'sreysth17@gmail.com'\n",
    "    \n",
    "    \n",
    "]\n",
    "mailbody=f'''\n",
    "Hello,\n",
    "This is an automated mail, send by using the selenium library in python.\n",
    "sent to {mails} together in one go.\n",
    "regards Tanishq Ahluwalia\n",
    "'''\n",
    "sub='Automated Mail using python'\n",
    "driver.get('https://gmail.com')\n",
    "for x in range(len(mails)):\n",
    "    compose=driver.find_element_by_xpath('/html/body/div[7]/div[3]/div/div[2]/div[1]/div[1]/div[1]/div/div/div/div[1]/div/div')\n",
    "    compose.click()\n",
    "    to='/html/body/div[20]/div/div/div/div[1]/div[3]/div[1]/div[1]/div/div/div/div[3]/div/div/div[4]/table/tbody/tr/td[2]/form/div[1]/table/tbody/tr[2]/td[2]/div/div/textarea'\n",
    "    element = WebDriverWait(driver, 10).until( \n",
    "        EC.presence_of_element_located((By.XPATH, to)) \n",
    "    ) \n",
    "    element.send_keys(mails[x])\n",
    "#     driver.find_element_by_id(':qt').send_keys(mails[i])\n",
    "    subject=driver.find_element_by_xpath('/html/body/div[20]/div/div/div/div[1]/div[3]/div[1]/div[1]/div/div/div/div[3]/div/div/div[4]/table/tbody/tr/td[2]/form/div[3]/div/input')\n",
    "    subject.send_keys(sub)\n",
    "    body=driver.find_element_by_xpath('/html/body/div[20]/div/div/div/div[1]/div[3]/div[1]/div[1]/div/div/div/div[3]/div/div/div[4]/table/tbody/tr/td[2]/table/tbody/tr[1]/td/div/div[1]/div[2]/div[1]/div/table/tbody/tr/td[2]/div[2]/div')\n",
    "    body.send_keys(mailbody)\n",
    "    send=driver.find_element_by_xpath('/html/body/div[20]/div/div/div/div[1]/div[3]/div[1]/div[1]/div/div/div/div[3]/div/div/div[4]/table/tbody/tr/td[2]/table/tbody/tr[2]/td/div/div/div[4]/table/tbody/tr/td[1]/div/div[2]/div[1]')\n",
    "    send.click()\n",
    "    wait = WebDriverWait(driver, 3)\n",
    "#     element.clear()\n",
    "    del element\n",
    "    \n"
   ]
  },
  {
   "cell_type": "code",
   "execution_count": 88,
   "metadata": {},
   "outputs": [],
   "source": [
    "compose=driver.find_element_by_xpath('//*[@id=\"gs_lc50\"]/input[1]')\n",
    "compose.send_keys('hello')"
   ]
  },
  {
   "cell_type": "code",
   "execution_count": 93,
   "metadata": {},
   "outputs": [],
   "source": [
    "driver.find_element_by_id(':qt').send_keys('hello')"
   ]
  },
  {
   "cell_type": "code",
   "execution_count": 86,
   "metadata": {},
   "outputs": [],
   "source": [
    "driver.get('https://gmail.com')"
   ]
  }
 ],
 "metadata": {
  "kernelspec": {
   "display_name": "Python 3",
   "language": "python",
   "name": "python3"
  },
  "language_info": {
   "codemirror_mode": {
    "name": "ipython",
    "version": 3
   },
   "file_extension": ".py",
   "mimetype": "text/x-python",
   "name": "python",
   "nbconvert_exporter": "python",
   "pygments_lexer": "ipython3",
   "version": "3.7.6"
  }
 },
 "nbformat": 4,
 "nbformat_minor": 4
}
